{
 "cells": [
  {
   "cell_type": "markdown",
   "metadata": {},
   "source": [
    "[DIY Covid-19 Dashboard Kit](https://github.com/fsmeraldi/diy-covid19dash) (C) Fabrizio Smeraldi, 2020 ([f.smeraldi@qmul.ac.uk](mailto:f.smeraldi@qmul.ac.uk) - [web](http://www.eecs.qmul.ac.uk/~fabri/)). This notebook is released under the [GNU GPLv3.0 or later](https://www.gnu.org/licenses/)."
   ]
  },
  {
   "cell_type": "markdown",
   "metadata": {},
   "source": [
    "# DIY Covid-19 Dashboard"
   ]
  },
  {
   "cell_type": "code",
   "execution_count": 15,
   "metadata": {},
   "outputs": [],
   "source": [
    "from IPython.display import clear_output\n",
    "import ipywidgets as wdg\n",
    "import pandas as pd\n",
    "import numpy as np\n",
    "import matplotlib.pyplot as plt\n",
    "import json\n",
    "from uk_covid19 import Cov19API"
   ]
  },
  {
   "cell_type": "code",
   "execution_count": 16,
   "metadata": {},
   "outputs": [],
   "source": [
    "%matplotlib inline\n",
    "# make figures larger\n",
    "plt.rcParams['figure.dpi'] = 100"
   ]
  },
  {
   "cell_type": "code",
   "execution_count": 17,
   "metadata": {
    "scrolled": true
   },
   "outputs": [],
   "source": [
    "# Load JSON files and store the raw data in some variable. Edit as appropriate\n",
    "\n",
    "# Define the filter for the PHE API call\n",
    "filter = [\n",
    "    'areaType=region',\n",
    "    'areaName=London'\n",
    "]\n",
    "\n",
    "# Define the structure for the PHE API response\n",
    "structure = {\n",
    "    \"date\": \"date\",\n",
    "    \"dailyCases\": \"newCasesByPublishDate\",\n",
    "    \"cumulativeCases\": \"cumCasesByPublishDate\",\n",
    "    \"dailyDeaths\": \"newDeaths28DaysByPublishDate\",\n",
    "    \"cumulativeDeaths\": \"cumDeaths28DaysByPublishDate\"\n",
    "}\n",
    "\n",
    "# Create an instance of Cov19API with the specified filter and structure\n",
    "api = Cov19API(filters=filter, structure=structure)\n",
    "\n",
    "# Fetch the data from the API\n",
    "timeseries=api.get_json()\n",
    "\n",
    "# Create and store the data into canned.json\n",
    "with open(\"canned.json\", \"wt\") as OUTF:\n",
    "    json.dump(timeseries, OUTF)\n",
    "\n",
    "# Read the data from canned.json and put it into a dictionary\n",
    "jsondata={}\n",
    "\n",
    "with open(\"canned.json\", \"rt\") as INFILE:\n",
    "    jsondata=json.load(INFILE)\n"
   ]
  },
  {
   "cell_type": "code",
   "execution_count": 18,
   "metadata": {
    "scrolled": true
   },
   "outputs": [],
   "source": [
    "def parse_date(datestring):\n",
    "    \"\"\" Convert a date string into a pandas datetime object \"\"\"\n",
    "    return pd.to_datetime(datestring, format=\"%Y-%m-%d\")\n",
    "\n",
    "def wrangle_data(rawdata):\n",
    "    \"\"\" Parameters: rawdata - data from json file or API call. Returns a dataframe.\n",
    "    Edit to include the code that wrangles the data, creates the dataframe and fills it in. \"\"\"\n",
    "    # Extract the data and put it into a list\n",
    "    dataList = rawdata['data']\n",
    "    # Extract and sort the dates from the list\n",
    "    dates=[dictionary['date'] for dictionary in dataList ]\n",
    "    dates.sort()\n",
    "    # Parse the start and end dates\n",
    "    startdate=parse_date(dates[0])\n",
    "    enddate=parse_date(dates[-1])\n",
    "\n",
    "    # Create an empty dataframe with the date range and the following 4 columns\n",
    "    index=pd.date_range(startdate, enddate, freq='D')\n",
    "    df=pd.DataFrame(index=index, columns=['dailyCases', 'cumulativeCases', 'dailyDeaths', 'cumulativeDeaths'])\n",
    "\n",
    "    # Iterate through the data list\n",
    "    for entry in dataList:\n",
    "        # Extract and parse the date\n",
    "        date=parse_date(entry['date'])\n",
    "        # Iterate through each column\n",
    "        for column in ['dailyCases', 'cumulativeCases', 'dailyDeaths', 'cumulativeDeaths']:\n",
    "            # check that nothing is there yet - just in case some dates are duplicated,\n",
    "            # maybe with data for different columns in each entry\n",
    "            if pd.isna(df.loc[date, column]): \n",
    "                # replace None with 0 in our data \n",
    "                value= float(entry[column]) if entry[column]!=None else 0.0\n",
    "                # this is the way you access a specific location in the dataframe - use .loc\n",
    "                # and put index,column in a single set of [ ]\n",
    "                df.loc[date, column]=value\n",
    "                \n",
    "    # fill in any remaining \"holes\" due to missing dates\n",
    "    df.fillna(0.0, inplace=True)\n",
    "    # Return the dataframe\n",
    "    return df\n",
    "\n",
    "# putting the wrangling code into a function allows you to call it again after refreshing the data through \n",
    "# the API. You should call the function directly on the JSON data when the dashboard starts, by including \n",
    "# the call in this cell as below:\n",
    "df=wrangle_data(jsondata) # df is the dataframe for plotting"
   ]
  },
  {
   "cell_type": "code",
   "execution_count": 19,
   "metadata": {},
   "outputs": [],
   "source": [
    "# Place your API access code in this function. Do not call this function directly; it will be called by \n",
    "# the button callback. \n",
    "def access_api():\n",
    "    \"\"\" Accesses the PHE API. Return data as a like-for-like replacement for the \"canned\" data loaded from the JSON file. \"\"\"\n",
    "    try:\n",
    "        # Define the filter for the PHE API call\n",
    "        api_filter = [\n",
    "        'areaType=region',\n",
    "        'areaName=London'\n",
    "        ]\n",
    "        # Define the structure for the PHE API response\n",
    "        api_structure = {\n",
    "        \"date\": \"date\",\n",
    "        \"dailyCases\": \"newCasesByPublishDate\",\n",
    "        \"cumulativeCases\": \"cumCasesByPublishDate\",\n",
    "        \"dailyDeaths\": \"newDeaths28DaysByPublishDate\",\n",
    "        \"cumulativeDeaths\": \"cumDeaths28DaysByPublishDate\"\n",
    "        }\n",
    "        # Create an instance of Cov19API with the specified filter and structure\n",
    "        api = Cov19API(filters=api_filter, structure=api_structure)\n",
    "        # Fetch the data from the API\n",
    "        api_data = api.get_json()\n",
    "    # Error handling\n",
    "    except(requests.exceptions.RequestException, JSONDecodeError) as e:\n",
    "        print(f\"Error when accessing API: {e}\")\n",
    "        api_data = {}\n",
    "    # Return the data\n",
    "    return api_data # return data read from the API"
   ]
  },
  {
   "cell_type": "code",
   "execution_count": 20,
   "metadata": {},
   "outputs": [],
   "source": [
    "# Printout from this function will be lost in Voila unless captured in an\n",
    "# output widget - therefore, we give feedback to the user by changing the \n",
    "# appearance of the button\n",
    "def api_button_callback(button):\n",
    "    try:   \n",
    "        \"\"\" Button callback - it must take the button as its parameter (unused in this case).\n",
    "        Accesses API, wrangles data, updates global variable df used for plotting. \"\"\"\n",
    "        # Get fresh data from the API. If you have time, include some error handling\n",
    "        # around this call.\n",
    "        apidata=access_api()\n",
    "        # wrangle the data and overwrite the dataframe for plotting\n",
    "        global df\n",
    "        df=wrangle_data(apidata)\n",
    "        # the graph won't refresh until the user interacts with the widget.\n",
    "        # this function simulates the interaction, see Graph and Analysis below.\n",
    "        # The function needs to be adapted to your graph; you can omit this call\n",
    "        # in the first instance\n",
    "        refresh_graph()\n",
    "        # after all is done, you can switch the icon on the button to a \"check\" sign\n",
    "        # and optionally disable the button - it won't be needed again. If you are \n",
    "        # implementing error handling, you can use icons \"unlink\" or \"times\" and \n",
    "        apibutton.icon=\"check\"\n",
    "        #apibutton.disabled=True\n",
    "    # change the button text to \"Unavailable\" when the api call fails.\n",
    "    except(requests.exceptions.RequestException, JSONDecodeError):\n",
    "        apibutton.icon=\"unlink\"\n",
    "\n",
    "# Create a button widget\n",
    "apibutton=wdg.Button(\n",
    "    description='REFRESH', \n",
    "    disabled=False,\n",
    "    button_style='INFO',\n",
    "    tooltip=\"Keep calm and carry on\",\n",
    "    icon='refresh'\n",
    ")\n",
    "\n",
    "# remember to register your button callback function with the button\n",
    "apibutton.on_click(api_button_callback) # the name of your function inside these brackets\n",
    "\n",
    "\n",
    "# run all cells before clicking on this button"
   ]
  },
  {
   "cell_type": "markdown",
   "metadata": {
    "editable": true,
    "slideshow": {
     "slide_type": ""
    },
    "tags": []
   },
   "source": [
    "## The explanation of the dashboard\n",
    "This dashboard allows you to visulise the Covid data such as dailyCases, cummulativeCases, dailyDeaths, cummulativeDeaths depending on the option that you can select from the dropdown \n",
    "list and you can also select the scale of the data (linear or log) depending on the option you select from the radio button. The mentioned data was fetched by calling the api call from \n",
    "PHE with the specified filter and structure."
   ]
  },
  {
   "cell_type": "code",
   "execution_count": 23,
   "metadata": {},
   "outputs": [
    {
     "data": {
      "application/vnd.jupyter.widget-view+json": {
       "model_id": "4ef2b260d4e84f70be1b6ca918322cb1",
       "version_major": 2,
       "version_minor": 0
      },
      "text/plain": [
       "HBox(children=(VBox(children=(Dropdown(options=('dailyCases', 'cumulativeCases', 'dailyDeaths', 'cumulativeDea…"
      ]
     },
     "metadata": {},
     "output_type": "display_data"
    },
    {
     "data": {
      "application/vnd.jupyter.widget-view+json": {
       "model_id": "47fcac5690414bf3b6caf480176cc1fc",
       "version_major": 2,
       "version_minor": 0
      },
      "text/plain": [
       "Output()"
      ]
     },
     "metadata": {},
     "output_type": "display_data"
    }
   ],
   "source": [
    "# Define a graph plotting function\n",
    "def plot_random_graph(opt, gscale):\n",
    "    # Check the scale type based on the radio button\n",
    "    if gscale=='linear':\n",
    "        logscale=False\n",
    "    else:\n",
    "        logscale=True\n",
    "    # Plot the selected column with the specified scale\n",
    "    df[opt].plot(logy = logscale, color = 'red')\n",
    "    # Put label on x and y axis\n",
    "    plt.xlabel('date')\n",
    "    plt.ylabel(opt)\n",
    "    plt.show() # important! update won't work properly without this\n",
    "\n",
    "# A dropdown widget to select a column\n",
    "whichopt=wdg.Dropdown(\n",
    "    options=['dailyCases', 'cumulativeCases', 'dailyDeaths', 'cumulativeDeaths'],\n",
    "    value='dailyCases',\n",
    "    disabled=False,\n",
    ")\n",
    "# A radio button widget to select the scale\n",
    "scale=wdg.RadioButtons(\n",
    "    options=['linear', 'log'],\n",
    "    description='Scale:',\n",
    "    disabled=False\n",
    ")\n",
    "# Create a VBox and a HBox as containers\n",
    "vcontrols = wdg.VBox([whichopt, apibutton])\n",
    "controls=wdg.HBox([vcontrols, scale])\n",
    "\n",
    "# Define a function to redraw the graph when the data is updated\n",
    "def refresh_graph():\n",
    "    \"\"\" We change the value of the widget in order to force a redraw of the graph;\n",
    "    this is useful when the data have been updated. This is a bit of a gimmick; it\n",
    "    needs to be customised for one of your widgets. \"\"\"\n",
    "    current=whichopt.value\n",
    "    if current==whichopt.options[0]:\n",
    "        other=whichopt.options[1]\n",
    "    else:\n",
    "        other=whichopt.options[0]\n",
    "    whichopt.value=other # forces the redraw\n",
    "    whichopt.value=current # now we can change it back\n",
    "    \n",
    "# connect the plotting function and the widgets    \n",
    "graph=wdg.interactive_output(plot_random_graph, {'opt': whichopt, 'gscale':scale})\n",
    "\n",
    "# actually displays the dashboard\n",
    "display(controls, graph)"
   ]
  },
  {
   "cell_type": "markdown",
   "metadata": {},
   "source": [
    "**Author and Copyright Notice** Remember that if you deploy this dashboard as a Binder it will be publicly accessible. Take credit for your work! Also acknowledge your sources: Based on UK Government [data](https://coronavirus.data.gov.uk/) published by [Public Health England](https://www.gov.uk/government/organisations/public-health-england) and on the [DIY Covid Dashboard Kit](https://github.com/fsmeraldi/diy-covid19dash), Copyright (C) Fabrizio Smeraldi 2020,2023. Released under the [GNU GPLv3.0 or later](https://www.gnu.org/licenses/)."
   ]
  },
  {
   "cell_type": "code",
   "execution_count": null,
   "metadata": {},
   "outputs": [],
   "source": []
  }
 ],
 "metadata": {
  "kernelspec": {
   "display_name": "Python 3 (ipykernel)",
   "language": "python",
   "name": "python3"
  },
  "language_info": {
   "codemirror_mode": {
    "name": "ipython",
    "version": 3
   },
   "file_extension": ".py",
   "mimetype": "text/x-python",
   "name": "python",
   "nbconvert_exporter": "python",
   "pygments_lexer": "ipython3",
   "version": "3.10.13"
  }
 },
 "nbformat": 4,
 "nbformat_minor": 4
}
